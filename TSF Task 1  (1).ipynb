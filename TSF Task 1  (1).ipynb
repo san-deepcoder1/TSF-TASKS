{
 "cells": [
  {
   "cell_type": "markdown",
   "id": "581d59d4",
   "metadata": {},
   "source": [
    "## **The Sparks Foundation GRIP, December'21**\n",
    "\n",
    "### **Name - Sandeep Nath**\n",
    "### **Data Science and Business Analytics Task**\n",
    "\n",
    "#### **Prediction Using Supervised Machine Learning**\n",
    "\n",
    "**Task 1 Statement - Predict Percentage of Marks of a Student Based on the Number of Study Hours.\n",
    "  (In this task we have to predict the percentage of student based on their given no. of study hours.)**\n",
    "  \n",
    "  *Dataset Link : http://bit.ly/w-data\n"
   ]
  },
  {
   "cell_type": "markdown",
   "id": "bc0210cc",
   "metadata": {},
   "source": [
    " ### **Simple Linear Regression**  "
   ]
  },
  {
   "cell_type": "markdown",
   "id": "56d5e40b",
   "metadata": {},
   "source": [
    "### **STEP -1  (Import Important Libraries)**"
   ]
  },
  {
   "cell_type": "code",
   "execution_count": 2,
   "id": "5884162e",
   "metadata": {},
   "outputs": [],
   "source": [
    "# Importing all important libraries required in this notebook.\n",
    "import pandas as pd\n",
    "import numpy as np\n",
    "import matplotlib.pyplot as plt\n",
    "import seaborn as sns\n",
    "from sklearn import linear_model"
   ]
  },
  {
   "cell_type": "markdown",
   "id": "5fb892aa",
   "metadata": {},
   "source": [
    "### **Step-2 (Read the Data)**"
   ]
  },
  {
   "cell_type": "code",
   "execution_count": 3,
   "id": "e14c0b5a",
   "metadata": {},
   "outputs": [
    {
     "name": "stdout",
     "output_type": "stream",
     "text": [
      "Data imported successfully\n"
     ]
    },
    {
     "data": {
      "text/html": [
       "<div>\n",
       "<style scoped>\n",
       "    .dataframe tbody tr th:only-of-type {\n",
       "        vertical-align: middle;\n",
       "    }\n",
       "\n",
       "    .dataframe tbody tr th {\n",
       "        vertical-align: top;\n",
       "    }\n",
       "\n",
       "    .dataframe thead th {\n",
       "        text-align: right;\n",
       "    }\n",
       "</style>\n",
       "<table border=\"1\" class=\"dataframe\">\n",
       "  <thead>\n",
       "    <tr style=\"text-align: right;\">\n",
       "      <th></th>\n",
       "      <th>Hours</th>\n",
       "      <th>Scores</th>\n",
       "    </tr>\n",
       "  </thead>\n",
       "  <tbody>\n",
       "    <tr>\n",
       "      <th>0</th>\n",
       "      <td>2.5</td>\n",
       "      <td>21</td>\n",
       "    </tr>\n",
       "    <tr>\n",
       "      <th>1</th>\n",
       "      <td>5.1</td>\n",
       "      <td>47</td>\n",
       "    </tr>\n",
       "    <tr>\n",
       "      <th>2</th>\n",
       "      <td>3.2</td>\n",
       "      <td>27</td>\n",
       "    </tr>\n",
       "    <tr>\n",
       "      <th>3</th>\n",
       "      <td>8.5</td>\n",
       "      <td>75</td>\n",
       "    </tr>\n",
       "    <tr>\n",
       "      <th>4</th>\n",
       "      <td>3.5</td>\n",
       "      <td>30</td>\n",
       "    </tr>\n",
       "    <tr>\n",
       "      <th>5</th>\n",
       "      <td>1.5</td>\n",
       "      <td>20</td>\n",
       "    </tr>\n",
       "    <tr>\n",
       "      <th>6</th>\n",
       "      <td>9.2</td>\n",
       "      <td>88</td>\n",
       "    </tr>\n",
       "    <tr>\n",
       "      <th>7</th>\n",
       "      <td>5.5</td>\n",
       "      <td>60</td>\n",
       "    </tr>\n",
       "    <tr>\n",
       "      <th>8</th>\n",
       "      <td>8.3</td>\n",
       "      <td>81</td>\n",
       "    </tr>\n",
       "    <tr>\n",
       "      <th>9</th>\n",
       "      <td>2.7</td>\n",
       "      <td>25</td>\n",
       "    </tr>\n",
       "    <tr>\n",
       "      <th>10</th>\n",
       "      <td>7.7</td>\n",
       "      <td>85</td>\n",
       "    </tr>\n",
       "    <tr>\n",
       "      <th>11</th>\n",
       "      <td>5.9</td>\n",
       "      <td>62</td>\n",
       "    </tr>\n",
       "    <tr>\n",
       "      <th>12</th>\n",
       "      <td>4.5</td>\n",
       "      <td>41</td>\n",
       "    </tr>\n",
       "    <tr>\n",
       "      <th>13</th>\n",
       "      <td>3.3</td>\n",
       "      <td>42</td>\n",
       "    </tr>\n",
       "    <tr>\n",
       "      <th>14</th>\n",
       "      <td>1.1</td>\n",
       "      <td>17</td>\n",
       "    </tr>\n",
       "    <tr>\n",
       "      <th>15</th>\n",
       "      <td>8.9</td>\n",
       "      <td>95</td>\n",
       "    </tr>\n",
       "    <tr>\n",
       "      <th>16</th>\n",
       "      <td>2.5</td>\n",
       "      <td>30</td>\n",
       "    </tr>\n",
       "    <tr>\n",
       "      <th>17</th>\n",
       "      <td>1.9</td>\n",
       "      <td>24</td>\n",
       "    </tr>\n",
       "    <tr>\n",
       "      <th>18</th>\n",
       "      <td>6.1</td>\n",
       "      <td>67</td>\n",
       "    </tr>\n",
       "    <tr>\n",
       "      <th>19</th>\n",
       "      <td>7.4</td>\n",
       "      <td>69</td>\n",
       "    </tr>\n",
       "    <tr>\n",
       "      <th>20</th>\n",
       "      <td>2.7</td>\n",
       "      <td>30</td>\n",
       "    </tr>\n",
       "    <tr>\n",
       "      <th>21</th>\n",
       "      <td>4.8</td>\n",
       "      <td>54</td>\n",
       "    </tr>\n",
       "    <tr>\n",
       "      <th>22</th>\n",
       "      <td>3.8</td>\n",
       "      <td>35</td>\n",
       "    </tr>\n",
       "    <tr>\n",
       "      <th>23</th>\n",
       "      <td>6.9</td>\n",
       "      <td>76</td>\n",
       "    </tr>\n",
       "    <tr>\n",
       "      <th>24</th>\n",
       "      <td>7.8</td>\n",
       "      <td>86</td>\n",
       "    </tr>\n",
       "  </tbody>\n",
       "</table>\n",
       "</div>"
      ],
      "text/plain": [
       "    Hours  Scores\n",
       "0     2.5      21\n",
       "1     5.1      47\n",
       "2     3.2      27\n",
       "3     8.5      75\n",
       "4     3.5      30\n",
       "5     1.5      20\n",
       "6     9.2      88\n",
       "7     5.5      60\n",
       "8     8.3      81\n",
       "9     2.7      25\n",
       "10    7.7      85\n",
       "11    5.9      62\n",
       "12    4.5      41\n",
       "13    3.3      42\n",
       "14    1.1      17\n",
       "15    8.9      95\n",
       "16    2.5      30\n",
       "17    1.9      24\n",
       "18    6.1      67\n",
       "19    7.4      69\n",
       "20    2.7      30\n",
       "21    4.8      54\n",
       "22    3.8      35\n",
       "23    6.9      76\n",
       "24    7.8      86"
      ]
     },
     "execution_count": 3,
     "metadata": {},
     "output_type": "execute_result"
    }
   ],
   "source": [
    "# Reading data from an url.\n",
    "url = \"http://bit.ly/w-data\"\n",
    "ds = pd.read_csv(url)\n",
    "print (\"Data imported successfully\")\n",
    "ds"
   ]
  },
  {
   "cell_type": "markdown",
   "id": "cd9906b2",
   "metadata": {},
   "source": [
    "**Now, let's plot a scatter point graph from this dataset (ds) to better understand the relationship between the two available variables i.e. (Hours & Scores).**"
   ]
  },
  {
   "cell_type": "markdown",
   "id": "2cec6349",
   "metadata": {},
   "source": [
    "#### *We can observe that the data is clean just by looking, so data cleaning is not required.*"
   ]
  },
  {
   "cell_type": "markdown",
   "id": "69199970",
   "metadata": {},
   "source": [
    "### **Step-3 (Visualise the Data)**"
   ]
  },
  {
   "cell_type": "code",
   "execution_count": 4,
   "id": "77855ea0",
   "metadata": {
    "scrolled": true
   },
   "outputs": [
    {
     "data": {
      "text/plain": [
       "<matplotlib.collections.PathCollection at 0x14af53e5c10>"
      ]
     },
     "execution_count": 4,
     "metadata": {},
     "output_type": "execute_result"
    },
    {
     "data": {
      "image/png": "[encoded data removed]",
      "text/plain": [
       "<Figure size 432x288 with 1 Axes>"
      ]
     },
     "metadata": {
      "needs_background": "light"
     },
     "output_type": "display_data"
    }
   ],
   "source": [
    "%matplotlib inline\n",
    "plt.xlabel('Hours studied')\n",
    "plt.ylabel('Percentage scored')\n",
    "plt.title('Hours vs Percentage')\n",
    "plt.scatter(ds.Hours, ds.Scores,)"
   ]
  },
  {
   "cell_type": "markdown",
   "id": "8e0d3e1f",
   "metadata": {},
   "source": [
    "**From the graph above, we can clearly observe that there is a positive linear relationship between the no. of hours studied and percentage scored.** "
   ]
  },
  {
   "cell_type": "code",
   "execution_count": 5,
   "id": "e7f0c0b5",
   "metadata": {},
   "outputs": [
    {
     "data": {
      "text/html": [
       "<div>\n",
       "<style scoped>\n",
       "    .dataframe tbody tr th:only-of-type {\n",
       "        vertical-align: middle;\n",
       "    }\n",
       "\n",
       "    .dataframe tbody tr th {\n",
       "        vertical-align: top;\n",
       "    }\n",
       "\n",
       "    .dataframe thead th {\n",
       "        text-align: right;\n",
       "    }\n",
       "</style>\n",
       "<table border=\"1\" class=\"dataframe\">\n",
       "  <thead>\n",
       "    <tr style=\"text-align: right;\">\n",
       "      <th></th>\n",
       "      <th>Hours</th>\n",
       "      <th>Scores</th>\n",
       "    </tr>\n",
       "  </thead>\n",
       "  <tbody>\n",
       "    <tr>\n",
       "      <th>Hours</th>\n",
       "      <td>1.000000</td>\n",
       "      <td>0.976191</td>\n",
       "    </tr>\n",
       "    <tr>\n",
       "      <th>Scores</th>\n",
       "      <td>0.976191</td>\n",
       "      <td>1.000000</td>\n",
       "    </tr>\n",
       "  </tbody>\n",
       "</table>\n",
       "</div>"
      ],
      "text/plain": [
       "           Hours    Scores\n",
       "Hours   1.000000  0.976191\n",
       "Scores  0.976191  1.000000"
      ]
     },
     "execution_count": 5,
     "metadata": {},
     "output_type": "execute_result"
    }
   ],
   "source": [
    "ds.corr()"
   ]
  },
  {
   "cell_type": "markdown",
   "id": "1e93a360",
   "metadata": {},
   "source": [
    "### **Step-4 (Preparing the Data)**\n",
    "The next step is to break down the data into \"attributes\"(inputs) and \"labels\"(outputs)"
   ]
  },
  {
   "cell_type": "code",
   "execution_count": 6,
   "id": "e68b7bd3",
   "metadata": {},
   "outputs": [],
   "source": [
    "X = ds.iloc[:, :-1].values\n",
    "y = ds.iloc[:, 1].values"
   ]
  },
  {
   "cell_type": "markdown",
   "id": "a81c2643",
   "metadata": {},
   "source": [
    "**Now that we have our rows and columns, the next step is to split this data (ds) into training and test sets.\n",
    "Let's do this using Scikit-Learn's built in train_test_split() method.**"
   ]
  },
  {
   "cell_type": "code",
   "execution_count": 7,
   "id": "272086ad",
   "metadata": {},
   "outputs": [],
   "source": [
    "from sklearn.model_selection import train_test_split\n",
    "X_train, X_test, y_train, y_test = train_test_split(X, y, test_size = 0.2, random_state = 0)"
   ]
  },
  {
   "cell_type": "markdown",
   "id": "72ae8646",
   "metadata": {},
   "source": [
    "### **Step-5 (Testing and Training the Algorithm)**"
   ]
  },
  {
   "cell_type": "markdown",
   "id": "37bfdc16",
   "metadata": {},
   "source": [
    "After splitting the data into training and testing sets, finally we should train the algorithm."
   ]
  },
  {
   "cell_type": "code",
   "execution_count": 8,
   "id": "5a9ef5a0",
   "metadata": {},
   "outputs": [
    {
     "name": "stdout",
     "output_type": "stream",
     "text": [
      "Training Complete\n"
     ]
    }
   ],
   "source": [
    "from sklearn.linear_model import LinearRegression\n",
    "reg = LinearRegression()\n",
    "reg.fit(X_train.reshape(-1,1), y_train)\n",
    "print(\"Training Complete\")"
   ]
  },
  {
   "cell_type": "markdown",
   "id": "bac5c907",
   "metadata": {},
   "source": [
    "### **Step-6 (Making Linear Regression Line)**"
   ]
  },
  {
   "cell_type": "code",
   "execution_count": 9,
   "id": "8c11b09f",
   "metadata": {},
   "outputs": [
    {
     "data": {
      "image/png": "[encoded data removed]",
      "text/plain": [
       "<Figure size 432x288 with 1 Axes>"
      ]
     },
     "metadata": {
      "needs_background": "light"
     },
     "output_type": "display_data"
    },
    {
     "name": "stdout",
     "output_type": "stream",
     "text": [
      "This is a Linear Regression line of our dataset (ds)\n"
     ]
    }
   ],
   "source": [
    "#linear equation in two variables i.e. (y=mx+c)\n",
    "line = reg.coef_*X+reg.intercept_\n",
    "\n",
    "#Plotting for the test data\n",
    "plt.scatter(X, y)\n",
    "plt.plot(X, line, color = 'red')\n",
    "plt.show()\n",
    "print(\"This is a Linear Regression line of our dataset (ds)\")"
   ]
  },
  {
   "cell_type": "markdown",
   "id": "7003c56d",
   "metadata": {},
   "source": [
    "#### **This line predicts the (x,y) of every point possible within the range of the data with minimum deviation or inaccuaracy.**"
   ]
  },
  {
   "cell_type": "markdown",
   "id": "c2725dfd",
   "metadata": {},
   "source": [
    "### **Step -7 (Start with Predictions)**"
   ]
  },
  {
   "cell_type": "markdown",
   "id": "056b4fd0",
   "metadata": {},
   "source": [
    "*Don't forget that our main task is to predict the percentage score based on the no of study hours.*"
   ]
  },
  {
   "cell_type": "code",
   "execution_count": 10,
   "id": "dcd12305",
   "metadata": {},
   "outputs": [
    {
     "name": "stdout",
     "output_type": "stream",
     "text": [
      "Predicted Successfully\n"
     ]
    },
    {
     "data": {
      "text/plain": [
       "array([16.88414476, 33.73226078, 75.357018  , 26.79480124, 60.49103328])"
      ]
     },
     "execution_count": 10,
     "metadata": {},
     "output_type": "execute_result"
    }
   ],
   "source": [
    "y_pred = reg.predict(X_test)\n",
    "print(\"Predicted Successfully\")\n",
    "y_pred"
   ]
  },
  {
   "cell_type": "markdown",
   "id": "f5d65288",
   "metadata": {},
   "source": [
    "### **Step-8 (Comparing Actual & Predicted Data)**"
   ]
  },
  {
   "cell_type": "code",
   "execution_count": 11,
   "id": "b0924983",
   "metadata": {},
   "outputs": [
    {
     "data": {
      "text/html": [
       "<div>\n",
       "<style scoped>\n",
       "    .dataframe tbody tr th:only-of-type {\n",
       "        vertical-align: middle;\n",
       "    }\n",
       "\n",
       "    .dataframe tbody tr th {\n",
       "        vertical-align: top;\n",
       "    }\n",
       "\n",
       "    .dataframe thead th {\n",
       "        text-align: right;\n",
       "    }\n",
       "</style>\n",
       "<table border=\"1\" class=\"dataframe\">\n",
       "  <thead>\n",
       "    <tr style=\"text-align: right;\">\n",
       "      <th></th>\n",
       "      <th>Actual</th>\n",
       "      <th>Predicted</th>\n",
       "    </tr>\n",
       "  </thead>\n",
       "  <tbody>\n",
       "    <tr>\n",
       "      <th>0</th>\n",
       "      <td>20</td>\n",
       "      <td>16.884145</td>\n",
       "    </tr>\n",
       "    <tr>\n",
       "      <th>1</th>\n",
       "      <td>27</td>\n",
       "      <td>33.732261</td>\n",
       "    </tr>\n",
       "    <tr>\n",
       "      <th>2</th>\n",
       "      <td>69</td>\n",
       "      <td>75.357018</td>\n",
       "    </tr>\n",
       "    <tr>\n",
       "      <th>3</th>\n",
       "      <td>30</td>\n",
       "      <td>26.794801</td>\n",
       "    </tr>\n",
       "    <tr>\n",
       "      <th>4</th>\n",
       "      <td>62</td>\n",
       "      <td>60.491033</td>\n",
       "    </tr>\n",
       "  </tbody>\n",
       "</table>\n",
       "</div>"
      ],
      "text/plain": [
       "   Actual  Predicted\n",
       "0      20  16.884145\n",
       "1      27  33.732261\n",
       "2      69  75.357018\n",
       "3      30  26.794801\n",
       "4      62  60.491033"
      ]
     },
     "execution_count": 11,
     "metadata": {},
     "output_type": "execute_result"
    }
   ],
   "source": [
    "comp= pd.DataFrame({'Actual' : y_test, 'Predicted' : y_pred})\n",
    "comp"
   ]
  },
  {
   "cell_type": "markdown",
   "id": "40687b01",
   "metadata": {},
   "source": [
    "### **Step-9 (We can now predict the percentage scored with any random No.of hours studied).**"
   ]
  },
  {
   "cell_type": "code",
   "execution_count": 12,
   "id": "65abeedb",
   "metadata": {},
   "outputs": [
    {
     "name": "stdout",
     "output_type": "stream",
     "text": [
      "No.of hours = [[9.25]]\n",
      "Predicted Score = 93.69173248737535\n"
     ]
    }
   ],
   "source": [
    "# For example\n",
    "hours = [[9.25]]\n",
    "own_pred = reg.predict(hours)\n",
    "print(\"No.of hours = {}\".format(hours))\n",
    "print(\"Predicted Score = {}\".format(own_pred[0]))"
   ]
  },
  {
   "cell_type": "markdown",
   "id": "264ed6be",
   "metadata": {},
   "source": [
    "*Using our model, we can see that by studying for 9.25 hrs, Predicted score comes out to be 93.69 approx."
   ]
  },
  {
   "cell_type": "markdown",
   "id": "0a9838e0",
   "metadata": {},
   "source": [
    "### **Step-10 (Evaluating the algorithm)**\n",
    "\n",
    "The final step is to evaluate the performance of algorithm. This step is particularly important to compare how well different algorithms perform on a particular dataset."
   ]
  },
  {
   "cell_type": "markdown",
   "id": "312f7a71",
   "metadata": {},
   "source": [
    "*Let's evaluate using the metrics **mean squared error** and **mean absolute error**.*"
   ]
  },
  {
   "cell_type": "code",
   "execution_count": 13,
   "id": "cea5e91e",
   "metadata": {},
   "outputs": [
    {
     "name": "stdout",
     "output_type": "stream",
     "text": [
      "Mean squared error: 21.598769307217406\n",
      "Mean absolute error: 4.183859899002975\n"
     ]
    }
   ],
   "source": [
    "from sklearn import metrics\n",
    "print(\"Mean squared error:\", metrics.mean_squared_error(y_test,y_pred))\n",
    "print(\"Mean absolute error:\", metrics.mean_absolute_error(y_test, y_pred))"
   ]
  },
  {
   "cell_type": "markdown",
   "id": "d9fde9a4",
   "metadata": {},
   "source": [
    "***With this we came to an end of our model for predicting x(hours) values using y(Score) values following a step-by-step process with the help of supervised machine learning.***"
   ]
  }
 ],
 "metadata": {
  "kernelspec": {
   "display_name": "Python 3 (ipykernel)",
   "language": "python",
   "name": "python3"
  },
  "language_info": {
   "codemirror_mode": {
    "name": "ipython",
    "version": 3
   },
   "file_extension": ".py",
   "mimetype": "text/x-python",
   "name": "python",
   "nbconvert_exporter": "python",
   "pygments_lexer": "ipython3",
   "version": "3.9.1"
  }
 },
 "nbformat": 4,
 "nbformat_minor": 5
}
